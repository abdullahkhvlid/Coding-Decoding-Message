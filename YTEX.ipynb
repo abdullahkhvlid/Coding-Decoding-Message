{
  "cells": [
    {
      "cell_type": "code",
      "execution_count": null,
      "metadata": {
        "colab": {
          "base_uri": "https://localhost:8080/"
        },
        "id": "o8pXVnwIxW9Z",
        "outputId": "726f7636-f25b-41de-e3d2-91ed871b9029"
      },
      "outputs": [
        {
          "output_type": "stream",
          "name": "stdout",
          "text": [
            "To encode (1) or to decode (2)? 1\n",
            "Enter your message: therussiansarecomingtous\n",
            "abcherussiansarecomingtoustabc\n"
          ]
        }
      ],
      "source": [
        "try:\n",
        "    dc = int(input(\"To encode (1) or to decode (2)? \"))\n",
        "    user = input(\"Enter your message: \")\n",
        "\n",
        "    if dc == 1:\n",
        "        if len(user) <= 3:\n",
        "            user = user[::-1]\n",
        "            print(user)\n",
        "        else:\n",
        "            user = user[1:] + user[0]\n",
        "            user = \"abc\" + user + \"abc\"\n",
        "            print(user)\n",
        "\n",
        "    elif dc == 2:\n",
        "        if len(user) <= 3:\n",
        "            user = user[::-1]\n",
        "            print(user)\n",
        "        else:\n",
        "            user = user[3:-3]\n",
        "            user = user[-1] + user[:-1]\n",
        "            print(user)\n",
        "\n",
        "    else:\n",
        "        raise ValueError(\"thats a value error\")\n",
        "\n",
        "except ValueError:\n",
        "    print(\"ValueError, please enter a valid value\")\n"
      ]
    },
    {
      "cell_type": "code",
      "execution_count": null,
      "metadata": {
        "id": "sqX8_L898N0o"
      },
      "outputs": [],
      "source": []
    }
  ],
  "metadata": {
    "colab": {
      "provenance": []
    },
    "kernelspec": {
      "display_name": "Python 3",
      "name": "python3"
    },
    "language_info": {
      "name": "python"
    }
  },
  "nbformat": 4,
  "nbformat_minor": 0
}